{
  "nbformat": 4,
  "nbformat_minor": 0,
  "metadata": {
    "colab": {
      "provenance": [],
      "collapsed_sections": [],
      "mount_file_id": "1eVjWN0ysDmV2RReXznoIIT_fyNwrYv7n",
      "authorship_tag": "ABX9TyNgrne2Ua5CWcgLGV4SLlyr",
      "include_colab_link": true
    },
    "kernelspec": {
      "name": "python3",
      "display_name": "Python 3"
    },
    "language_info": {
      "name": "python"
    }
  },
  "cells": [
    {
      "cell_type": "markdown",
      "metadata": {
        "id": "view-in-github",
        "colab_type": "text"
      },
      "source": [
        "<a href=\"https://colab.research.google.com/github/Ankit455/14_days_challenge/blob/ankit/ankit/Finance.ipynb\" target=\"_parent\"><img src=\"https://colab.research.google.com/assets/colab-badge.svg\" alt=\"Open In Colab\"/></a>"
      ]
    },
    {
      "cell_type": "code",
      "execution_count": null,
      "metadata": {
        "id": "DK9OMf6Yi7T3"
      },
      "outputs": [],
      "source": [
        "import pandas as pd\n",
        "import matplotlib.pyplot as plt\n",
        "import numpy as np\n",
        "\n"
      ]
    },
    {
      "cell_type": "code",
      "source": [
        "df  = pd.read_csv('drive/MyDrive/financials.csv')\n",
        "print(df.head())"
      ],
      "metadata": {
        "colab": {
          "base_uri": "https://localhost:8080/"
        },
        "id": "GofWEpHll3zk",
        "outputId": "68761701-37de-400b-e696-12ce7692f552"
      },
      "execution_count": null,
      "outputs": [
        {
          "output_type": "stream",
          "name": "stdout",
          "text": [
            "  Symbol                 Name                  Sector   Price  Price/Earnings  \\\n",
            "0    MMM           3M Company             Industrials  222.89           24.31   \n",
            "1    AOS      A.O. Smith Corp             Industrials   60.24           27.76   \n",
            "2    ABT  Abbott Laboratories             Health Care   56.27           22.51   \n",
            "3   ABBV          AbbVie Inc.             Health Care  108.48           19.41   \n",
            "4    ACN        Accenture plc  Information Technology  150.51           25.47   \n",
            "\n",
            "   Dividend Yield  Earnings/Share  52 Week Low  52 Week High    Market Cap  \\\n",
            "0        2.332862            7.92       259.77       175.490  1.387211e+11   \n",
            "1        1.147959            1.70        68.39        48.925  1.078342e+10   \n",
            "2        1.908982            0.26        64.60        42.280  1.021210e+11   \n",
            "3        2.499560            3.29       125.86        60.050  1.813863e+11   \n",
            "4        1.714470            5.44       162.60       114.820  9.876586e+10   \n",
            "\n",
            "         EBITDA  Price/Sales  Price/Book  \\\n",
            "0  9.048000e+09     4.390271       11.34   \n",
            "1  6.010000e+08     3.575483        6.35   \n",
            "2  5.744000e+09     3.740480        3.19   \n",
            "3  1.031000e+10     6.291571       26.14   \n",
            "4  5.643228e+09     2.604117       10.62   \n",
            "\n",
            "                                         SEC Filings  \n",
            "0  http://www.sec.gov/cgi-bin/browse-edgar?action...  \n",
            "1  http://www.sec.gov/cgi-bin/browse-edgar?action...  \n",
            "2  http://www.sec.gov/cgi-bin/browse-edgar?action...  \n",
            "3  http://www.sec.gov/cgi-bin/browse-edgar?action...  \n",
            "4  http://www.sec.gov/cgi-bin/browse-edgar?action...  \n"
          ]
        }
      ]
    },
    {
      "cell_type": "markdown",
      "source": [
        "# New Section"
      ],
      "metadata": {
        "id": "md0NhiY2Q8kQ"
      }
    },
    {
      "cell_type": "code",
      "source": [
        "print(df.info())"
      ],
      "metadata": {
        "colab": {
          "base_uri": "https://localhost:8080/"
        },
        "id": "Yxt0MaG0m9_7",
        "outputId": "08afdb32-0a95-4a06-c55c-42e9d1c9de26"
      },
      "execution_count": null,
      "outputs": [
        {
          "output_type": "stream",
          "name": "stdout",
          "text": [
            "<class 'pandas.core.frame.DataFrame'>\n",
            "RangeIndex: 505 entries, 0 to 504\n",
            "Data columns (total 14 columns):\n",
            " #   Column          Non-Null Count  Dtype  \n",
            "---  ------          --------------  -----  \n",
            " 0   Symbol          505 non-null    object \n",
            " 1   Name            505 non-null    object \n",
            " 2   Sector          505 non-null    object \n",
            " 3   Price           505 non-null    float64\n",
            " 4   Price/Earnings  503 non-null    float64\n",
            " 5   Dividend Yield  505 non-null    float64\n",
            " 6   Earnings/Share  505 non-null    float64\n",
            " 7   52 Week Low     505 non-null    float64\n",
            " 8   52 Week High    505 non-null    float64\n",
            " 9   Market Cap      505 non-null    float64\n",
            " 10  EBITDA          505 non-null    float64\n",
            " 11  Price/Sales     505 non-null    float64\n",
            " 12  Price/Book      497 non-null    float64\n",
            " 13  SEC Filings     505 non-null    object \n",
            "dtypes: float64(10), object(4)\n",
            "memory usage: 55.4+ KB\n",
            "None\n"
          ]
        }
      ]
    },
    {
      "cell_type": "code",
      "source": [
        "df.isnull().sum()"
      ],
      "metadata": {
        "colab": {
          "base_uri": "https://localhost:8080/"
        },
        "id": "okGiIBRVQvXO",
        "outputId": "8f14d8d5-9ab2-4e0c-85d5-4f4c92b71fc4"
      },
      "execution_count": null,
      "outputs": [
        {
          "output_type": "execute_result",
          "data": {
            "text/plain": [
              "Symbol            0\n",
              "Name              0\n",
              "Sector            0\n",
              "Price             0\n",
              "Price/Earnings    2\n",
              "Dividend Yield    0\n",
              "Earnings/Share    0\n",
              "52 Week Low       0\n",
              "52 Week High      0\n",
              "Market Cap        0\n",
              "EBITDA            0\n",
              "Price/Sales       0\n",
              "Price/Book        8\n",
              "SEC Filings       0\n",
              "dtype: int64"
            ]
          },
          "metadata": {},
          "execution_count": 8
        }
      ]
    },
    {
      "cell_type": "code",
      "source": [
        "df = df.dropna().head(50)\n",
        "df.isnull().sum()"
      ],
      "metadata": {
        "colab": {
          "base_uri": "https://localhost:8080/"
        },
        "id": "M1Oi0fVuR_Qr",
        "outputId": "26347261-540a-4c2e-9aa6-59242c67c9be"
      },
      "execution_count": 17,
      "outputs": [
        {
          "output_type": "execute_result",
          "data": {
            "text/plain": [
              "Symbol            0\n",
              "Name              0\n",
              "Sector            0\n",
              "Price             0\n",
              "Price/Earnings    0\n",
              "Dividend Yield    0\n",
              "Earnings/Share    0\n",
              "52 Week Low       0\n",
              "52 Week High      0\n",
              "Market Cap        0\n",
              "EBITDA            0\n",
              "Price/Sales       0\n",
              "Price/Book        0\n",
              "SEC Filings       0\n",
              "dtype: int64"
            ]
          },
          "metadata": {},
          "execution_count": 17
        }
      ]
    },
    {
      "cell_type": "code",
      "source": [
        "df1= df.loc[:,['52 Week Low','52 Week High']]\n",
        "df1.head(5)"
      ],
      "metadata": {
        "colab": {
          "base_uri": "https://localhost:8080/",
          "height": 215
        },
        "id": "X5vYdbYNSVEN",
        "outputId": "c3acb53c-a151-4bfd-bdf1-27c508e69426"
      },
      "execution_count": null,
      "outputs": [
        {
          "output_type": "execute_result",
          "data": {
            "text/plain": [
              "   52 Week Low  52 Week High\n",
              "0       259.77       175.490\n",
              "1        68.39        48.925\n",
              "2        64.60        42.280\n",
              "3       125.86        60.050\n",
              "4       162.60       114.820"
            ],
            "text/html": [
              "\n",
              "  <div id=\"df-13ed4f96-1457-4edd-9ff3-38c3aaaf904d\">\n",
              "    <div class=\"colab-df-container\">\n",
              "      <div>\n",
              "<style scoped>\n",
              "    .dataframe tbody tr th:only-of-type {\n",
              "        vertical-align: middle;\n",
              "    }\n",
              "\n",
              "    .dataframe tbody tr th {\n",
              "        vertical-align: top;\n",
              "    }\n",
              "\n",
              "    .dataframe thead th {\n",
              "        text-align: right;\n",
              "    }\n",
              "</style>\n",
              "<table border=\"1\" class=\"dataframe\">\n",
              "  <thead>\n",
              "    <tr style=\"text-align: right;\">\n",
              "      <th></th>\n",
              "      <th>52 Week Low</th>\n",
              "      <th>52 Week High</th>\n",
              "    </tr>\n",
              "  </thead>\n",
              "  <tbody>\n",
              "    <tr>\n",
              "      <th>0</th>\n",
              "      <td>259.77</td>\n",
              "      <td>175.490</td>\n",
              "    </tr>\n",
              "    <tr>\n",
              "      <th>1</th>\n",
              "      <td>68.39</td>\n",
              "      <td>48.925</td>\n",
              "    </tr>\n",
              "    <tr>\n",
              "      <th>2</th>\n",
              "      <td>64.60</td>\n",
              "      <td>42.280</td>\n",
              "    </tr>\n",
              "    <tr>\n",
              "      <th>3</th>\n",
              "      <td>125.86</td>\n",
              "      <td>60.050</td>\n",
              "    </tr>\n",
              "    <tr>\n",
              "      <th>4</th>\n",
              "      <td>162.60</td>\n",
              "      <td>114.820</td>\n",
              "    </tr>\n",
              "  </tbody>\n",
              "</table>\n",
              "</div>\n",
              "      <button class=\"colab-df-convert\" onclick=\"convertToInteractive('df-13ed4f96-1457-4edd-9ff3-38c3aaaf904d')\"\n",
              "              title=\"Convert this dataframe to an interactive table.\"\n",
              "              style=\"display:none;\">\n",
              "        \n",
              "  <svg xmlns=\"http://www.w3.org/2000/svg\" height=\"24px\"viewBox=\"0 0 24 24\"\n",
              "       width=\"24px\">\n",
              "    <path d=\"M0 0h24v24H0V0z\" fill=\"none\"/>\n",
              "    <path d=\"M18.56 5.44l.94 2.06.94-2.06 2.06-.94-2.06-.94-.94-2.06-.94 2.06-2.06.94zm-11 1L8.5 8.5l.94-2.06 2.06-.94-2.06-.94L8.5 2.5l-.94 2.06-2.06.94zm10 10l.94 2.06.94-2.06 2.06-.94-2.06-.94-.94-2.06-.94 2.06-2.06.94z\"/><path d=\"M17.41 7.96l-1.37-1.37c-.4-.4-.92-.59-1.43-.59-.52 0-1.04.2-1.43.59L10.3 9.45l-7.72 7.72c-.78.78-.78 2.05 0 2.83L4 21.41c.39.39.9.59 1.41.59.51 0 1.02-.2 1.41-.59l7.78-7.78 2.81-2.81c.8-.78.8-2.07 0-2.86zM5.41 20L4 18.59l7.72-7.72 1.47 1.35L5.41 20z\"/>\n",
              "  </svg>\n",
              "      </button>\n",
              "      \n",
              "  <style>\n",
              "    .colab-df-container {\n",
              "      display:flex;\n",
              "      flex-wrap:wrap;\n",
              "      gap: 12px;\n",
              "    }\n",
              "\n",
              "    .colab-df-convert {\n",
              "      background-color: #E8F0FE;\n",
              "      border: none;\n",
              "      border-radius: 50%;\n",
              "      cursor: pointer;\n",
              "      display: none;\n",
              "      fill: #1967D2;\n",
              "      height: 32px;\n",
              "      padding: 0 0 0 0;\n",
              "      width: 32px;\n",
              "    }\n",
              "\n",
              "    .colab-df-convert:hover {\n",
              "      background-color: #E2EBFA;\n",
              "      box-shadow: 0px 1px 2px rgba(60, 64, 67, 0.3), 0px 1px 3px 1px rgba(60, 64, 67, 0.15);\n",
              "      fill: #174EA6;\n",
              "    }\n",
              "\n",
              "    [theme=dark] .colab-df-convert {\n",
              "      background-color: #3B4455;\n",
              "      fill: #D2E3FC;\n",
              "    }\n",
              "\n",
              "    [theme=dark] .colab-df-convert:hover {\n",
              "      background-color: #434B5C;\n",
              "      box-shadow: 0px 1px 3px 1px rgba(0, 0, 0, 0.15);\n",
              "      filter: drop-shadow(0px 1px 2px rgba(0, 0, 0, 0.3));\n",
              "      fill: #FFFFFF;\n",
              "    }\n",
              "  </style>\n",
              "\n",
              "      <script>\n",
              "        const buttonEl =\n",
              "          document.querySelector('#df-13ed4f96-1457-4edd-9ff3-38c3aaaf904d button.colab-df-convert');\n",
              "        buttonEl.style.display =\n",
              "          google.colab.kernel.accessAllowed ? 'block' : 'none';\n",
              "\n",
              "        async function convertToInteractive(key) {\n",
              "          const element = document.querySelector('#df-13ed4f96-1457-4edd-9ff3-38c3aaaf904d');\n",
              "          const dataTable =\n",
              "            await google.colab.kernel.invokeFunction('convertToInteractive',\n",
              "                                                     [key], {});\n",
              "          if (!dataTable) return;\n",
              "\n",
              "          const docLinkHtml = 'Like what you see? Visit the ' +\n",
              "            '<a target=\"_blank\" href=https://colab.research.google.com/notebooks/data_table.ipynb>data table notebook</a>'\n",
              "            + ' to learn more about interactive tables.';\n",
              "          element.innerHTML = '';\n",
              "          dataTable['output_type'] = 'display_data';\n",
              "          await google.colab.output.renderOutput(dataTable, element);\n",
              "          const docLink = document.createElement('div');\n",
              "          docLink.innerHTML = docLinkHtml;\n",
              "          element.appendChild(docLink);\n",
              "        }\n",
              "      </script>\n",
              "    </div>\n",
              "  </div>\n",
              "  "
            ]
          },
          "metadata": {},
          "execution_count": 10
        }
      ]
    },
    {
      "cell_type": "code",
      "source": [
        "r,c = df.shape\n",
        "print(r,c)"
      ],
      "metadata": {
        "id": "YgSBvX_zq2XK",
        "colab": {
          "base_uri": "https://localhost:8080/"
        },
        "outputId": "abf121d8-290d-4411-b206-5b6269ce12a7"
      },
      "execution_count": null,
      "outputs": [
        {
          "output_type": "stream",
          "name": "stdout",
          "text": [
            "505 14\n"
          ]
        }
      ]
    },
    {
      "cell_type": "code",
      "source": [
        "print(df.describe())\n"
      ],
      "metadata": {
        "colab": {
          "base_uri": "https://localhost:8080/"
        },
        "id": "OPCtjBpj67Rz",
        "outputId": "a36dafc0-56c3-4241-f036-a25f4629d42c"
      },
      "execution_count": 14,
      "outputs": [
        {
          "output_type": "stream",
          "name": "stdout",
          "text": [
            "            Price  Price/Earnings  Dividend Yield  Earnings/Share  \\\n",
            "count   20.000000       20.000000       20.000000       20.000000   \n",
            "mean   106.510000       30.991000        1.480700        4.855000   \n",
            "std     59.155562       37.957537        1.283868        4.239713   \n",
            "min     10.060000        9.660000        0.000000       -1.720000   \n",
            "25%     63.652500       18.192500        0.411724        1.667500   \n",
            "50%    106.830000       23.365000        1.174186        4.415000   \n",
            "75%    151.082500       27.527500        2.357123        7.552500   \n",
            "max    222.890000      187.000000        4.961832       13.660000   \n",
            "\n",
            "       52 Week Low  52 Week High    Market Cap        EBITDA  Price/Sales  \\\n",
            "count    20.000000     20.000000  2.000000e+01  2.000000e+01    20.000000   \n",
            "mean    129.343500     82.828805  4.568229e+10  2.677373e+09     4.520701   \n",
            "std      70.771182     47.168770  5.107358e+10  2.939704e+09     3.512549   \n",
            "min      12.050000      9.700000  6.242378e+09  0.000000e+00     0.659514   \n",
            "25%      73.598750     47.856250  1.069811e+10  6.647725e+08     1.732244   \n",
            "50%     130.115000     73.805000  1.701399e+10  1.463200e+09     3.928424   \n",
            "75%     179.977500    115.992500  6.803532e+10  3.285500e+09     5.963882   \n",
            "max     259.770000    175.490000  1.813863e+11  1.031000e+10    13.092818   \n",
            "\n",
            "       Price/Book  \n",
            "count   20.000000  \n",
            "mean     6.511000  \n",
            "std      6.675381  \n",
            "min      1.530000  \n",
            "25%      2.795000  \n",
            "50%      3.450000  \n",
            "75%      7.417500  \n",
            "max     26.140000  \n"
          ]
        }
      ]
    },
    {
      "cell_type": "code",
      "source": [
        "name = df['Name'].head(10)\n",
        "price = df['Price'].head(10)\n",
        "high52 = df['52 Week High'].head(10)\n",
        "low52 = df['52 Week Low'].head(10)\n"
      ],
      "metadata": {
        "id": "pW0COy_N7q1h"
      },
      "execution_count": null,
      "outputs": []
    },
    {
      "cell_type": "markdown",
      "source": [
        "fig = plt.figure(figsize=(10,5))\n",
        "plt.bar(name,price,color='blue',width=0.2)\n",
        "plt.show()"
      ],
      "metadata": {
        "id": "4Vx5h_Z_9Qxx"
      }
    },
    {
      "cell_type": "code",
      "source": [
        "df.plot(x='52 Week High', y='52 Week Low', style='+')\n",
        "plt.xlabel('52 Week High')\n",
        "plt.ylabel('52 Week Low')\n",
        "plt.show()"
      ],
      "metadata": {
        "id": "LYHfixdzZqO_",
        "colab": {
          "base_uri": "https://localhost:8080/",
          "height": 279
        },
        "outputId": "6f093f48-24a3-4b35-99bf-7e3810f80e44"
      },
      "execution_count": 19,
      "outputs": [
        {
          "output_type": "display_data",
          "data": {
            "text/plain": [
              "<Figure size 432x288 with 1 Axes>"
            ],
            "image/png": "[encoded data removed]"
          },
          "metadata": {
            "needs_background": "light"
          }
        }
      ]
    },
    {
      "cell_type": "code",
      "source": [
        "X = pd.DataFrame(df['52 Week High'])\n",
        "y = pd.DataFrame(df['52 Week Low'])"
      ],
      "metadata": {
        "id": "U1xmlVfHf-_n"
      },
      "execution_count": 20,
      "outputs": []
    },
    {
      "cell_type": "code",
      "source": [
        "from sklearn.model_selection import train_test_split\n",
        "X_train, X_test, y_train, y_test = train_test_split(X,y,test_size=0.3, random_state=1)\n",
        "X_train.shape\n",
        "X_test.shape\n",
        "y_train.shape\n",
        "y_test.shape"
      ],
      "metadata": {
        "colab": {
          "base_uri": "https://localhost:8080/"
        },
        "id": "JSZwIBN4gIRc",
        "outputId": "8cdb2485-7070-439b-ce6b-0c4353cc9de6"
      },
      "execution_count": 22,
      "outputs": [
        {
          "output_type": "execute_result",
          "data": {
            "text/plain": [
              "(6, 1)"
            ]
          },
          "metadata": {},
          "execution_count": 22
        }
      ]
    },
    {
      "cell_type": "code",
      "source": [
        "from sklearn.linear_model import LinearRegression\n",
        "from sklearn.metrics import mean_squared_error\n",
        "regressor = LinearRegression()\n",
        "regressor.fit(X_train, y_train)"
      ],
      "metadata": {
        "colab": {
          "base_uri": "https://localhost:8080/"
        },
        "id": "1m0Yo9MjgbHj",
        "outputId": "e70527c8-d55b-447a-bd64-edd9c1bb2e21"
      },
      "execution_count": 23,
      "outputs": [
        {
          "output_type": "execute_result",
          "data": {
            "text/plain": [
              "LinearRegression()"
            ]
          },
          "metadata": {},
          "execution_count": 23
        }
      ]
    },
    {
      "cell_type": "code",
      "source": [
        "print(regressor.intercept_)"
      ],
      "metadata": {
        "colab": {
          "base_uri": "https://localhost:8080/"
        },
        "id": "eWcF3q32geV7",
        "outputId": "0e971114-891d-425d-e176-1e5745182166"
      },
      "execution_count": 24,
      "outputs": [
        {
          "output_type": "stream",
          "name": "stdout",
          "text": [
            "[13.40387996]\n"
          ]
        }
      ]
    },
    {
      "cell_type": "code",
      "source": [
        "print(regressor.coef_)"
      ],
      "metadata": {
        "colab": {
          "base_uri": "https://localhost:8080/"
        },
        "id": "SjGg7Cu-ghVv",
        "outputId": "93d668e4-6a04-4949-ba71-17d4efa685d8"
      },
      "execution_count": 25,
      "outputs": [
        {
          "output_type": "stream",
          "name": "stdout",
          "text": [
            "[[1.39623434]]\n"
          ]
        }
      ]
    },
    {
      "cell_type": "code",
      "source": [
        "y_test_predict = regressor.predict(X_test)\n",
        "print(y_test_predict)"
      ],
      "metadata": {
        "colab": {
          "base_uri": "https://localhost:8080/"
        },
        "id": "RbQFKqd_nE6V",
        "outputId": "3eb4a5da-80d9-4eab-ffd3-387b96952014"
      },
      "execution_count": 27,
      "outputs": [
        {
          "output_type": "stream",
          "name": "stdout",
          "text": [
            "[[ 97.24775219]\n",
            " [ 75.74574332]\n",
            " [211.66915651]\n",
            " [ 27.36622338]\n",
            " [ 72.43666793]\n",
            " [ 82.14049661]]\n"
          ]
        }
      ]
    },
    {
      "cell_type": "code",
      "source": [
        "plotdata = pd.DataFrame({\n",
        "\n",
        "    \"2018\":[57,67,77,83],\n",
        "\n",
        "    \"2019\":[68,73,80,79],\n",
        "\n",
        "    \"2020\":[73,78,80,85]},\n",
        "\n",
        "    index=[\"Django\", \"Gafur\", \"Tommy\", \"Ronnie\"])\n",
        "\n",
        "plotdata.plot(kind=\"bar\",figsize=(15, 8))\n",
        "\n",
        "plt.title(\"FIFA ratings\")\n",
        "\n",
        "plt.xlabel(\"Footballer\")\n",
        "\n",
        "plt.ylabel(\"Ratings\")"
      ],
      "metadata": {
        "colab": {
          "base_uri": "https://localhost:8080/",
          "height": 555
        },
        "id": "nb0bXhSEA9Sg",
        "outputId": "1fcd135a-fc34-489a-f6eb-9c3a7abc8327"
      },
      "execution_count": null,
      "outputs": [
        {
          "output_type": "execute_result",
          "data": {
            "text/plain": [
              "Text(0, 0.5, 'Ratings')"
            ]
          },
          "metadata": {},
          "execution_count": 52
        },
        {
          "output_type": "display_data",
          "data": {
            "text/plain": [
              "<Figure size 1080x576 with 1 Axes>"
            ],
            "image/png": "[encoded data removed]"
          },
          "metadata": {
            "needs_background": "light"
          }
        }
      ]
    }
  ]
}