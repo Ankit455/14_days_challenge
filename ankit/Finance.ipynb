{
  "nbformat": 4,
  "nbformat_minor": 0,
  "metadata": {
    "colab": {
      "provenance": [],
      "collapsed_sections": [],
      "authorship_tag": "ABX9TyOTvC1PQ2Kr5qm5f5RgYgZL",
      "include_colab_link": true
    },
    "kernelspec": {
      "name": "python3",
      "display_name": "Python 3"
    },
    "language_info": {
      "name": "python"
    }
  },
  "cells": [
    {
      "cell_type": "markdown",
      "metadata": {
        "id": "view-in-github",
        "colab_type": "text"
      },
      "source": [
        "<a href=\"https://colab.research.google.com/github/Ankit455/14_days_challenge/blob/ankit/Finance.ipynb\" target=\"_parent\"><img src=\"https://colab.research.google.com/assets/colab-badge.svg\" alt=\"Open In Colab\"/></a>"
      ]
    },
    {
      "cell_type": "code",
      "execution_count": null,
      "metadata": {
        "id": "DK9OMf6Yi7T3"
      },
      "outputs": [],
      "source": [
        "import pandas as pd\n",
        "import matplotlib.pyplot as plt\n",
        "import numpy as np\n",
        "\n"
      ]
    },
    {
      "cell_type": "code",
      "source": [
        "df  = pd.read_csv('financials.csv')\n",
        "print(df.head())"
      ],
      "metadata": {
        "colab": {
          "base_uri": "https://localhost:8080/"
        },
        "id": "GofWEpHll3zk",
        "outputId": "d1e78f12-68cf-411a-83ec-d1eb63422d94"
      },
      "execution_count": null,
      "outputs": [
        {
          "output_type": "stream",
          "name": "stdout",
          "text": [
            "  Symbol                 Name                  Sector   Price  Price/Earnings  \\\n",
            "0    MMM           3M Company             Industrials  222.89           24.31   \n",
            "1    AOS      A.O. Smith Corp             Industrials   60.24           27.76   \n",
            "2    ABT  Abbott Laboratories             Health Care   56.27           22.51   \n",
            "3   ABBV          AbbVie Inc.             Health Care  108.48           19.41   \n",
            "4    ACN        Accenture plc  Information Technology  150.51           25.47   \n",
            "\n",
            "   Dividend Yield  Earnings/Share  52 Week Low  52 Week High    Market Cap  \\\n",
            "0        2.332862            7.92       259.77       175.490  1.387211e+11   \n",
            "1        1.147959            1.70        68.39        48.925  1.078342e+10   \n",
            "2        1.908982            0.26        64.60        42.280  1.021210e+11   \n",
            "3        2.499560            3.29       125.86        60.050  1.813863e+11   \n",
            "4        1.714470            5.44       162.60       114.820  9.876586e+10   \n",
            "\n",
            "         EBITDA  Price/Sales  Price/Book  \\\n",
            "0  9.048000e+09     4.390271       11.34   \n",
            "1  6.010000e+08     3.575483        6.35   \n",
            "2  5.744000e+09     3.740480        3.19   \n",
            "3  1.031000e+10     6.291571       26.14   \n",
            "4  5.643228e+09     2.604117       10.62   \n",
            "\n",
            "                                         SEC Filings  \n",
            "0  http://www.sec.gov/cgi-bin/browse-edgar?action...  \n",
            "1  http://www.sec.gov/cgi-bin/browse-edgar?action...  \n",
            "2  http://www.sec.gov/cgi-bin/browse-edgar?action...  \n",
            "3  http://www.sec.gov/cgi-bin/browse-edgar?action...  \n",
            "4  http://www.sec.gov/cgi-bin/browse-edgar?action...  \n"
          ]
        }
      ]
    },
    {
      "cell_type": "code",
      "source": [
        "print(df.info())"
      ],
      "metadata": {
        "colab": {
          "base_uri": "https://localhost:8080/"
        },
        "id": "Yxt0MaG0m9_7",
        "outputId": "08afdb32-0a95-4a06-c55c-42e9d1c9de26"
      },
      "execution_count": null,
      "outputs": [
        {
          "output_type": "stream",
          "name": "stdout",
          "text": [
            "<class 'pandas.core.frame.DataFrame'>\n",
            "RangeIndex: 505 entries, 0 to 504\n",
            "Data columns (total 14 columns):\n",
            " #   Column          Non-Null Count  Dtype  \n",
            "---  ------          --------------  -----  \n",
            " 0   Symbol          505 non-null    object \n",
            " 1   Name            505 non-null    object \n",
            " 2   Sector          505 non-null    object \n",
            " 3   Price           505 non-null    float64\n",
            " 4   Price/Earnings  503 non-null    float64\n",
            " 5   Dividend Yield  505 non-null    float64\n",
            " 6   Earnings/Share  505 non-null    float64\n",
            " 7   52 Week Low     505 non-null    float64\n",
            " 8   52 Week High    505 non-null    float64\n",
            " 9   Market Cap      505 non-null    float64\n",
            " 10  EBITDA          505 non-null    float64\n",
            " 11  Price/Sales     505 non-null    float64\n",
            " 12  Price/Book      497 non-null    float64\n",
            " 13  SEC Filings     505 non-null    object \n",
            "dtypes: float64(10), object(4)\n",
            "memory usage: 55.4+ KB\n",
            "None\n"
          ]
        }
      ]
    },
    {
      "cell_type": "code",
      "source": [
        "r,c = df.shape\n",
        "print(r,c)"
      ],
      "metadata": {
        "id": "YgSBvX_zq2XK",
        "colab": {
          "base_uri": "https://localhost:8080/"
        },
        "outputId": "abf121d8-290d-4411-b206-5b6269ce12a7"
      },
      "execution_count": null,
      "outputs": [
        {
          "output_type": "stream",
          "name": "stdout",
          "text": [
            "505 14\n"
          ]
        }
      ]
    },
    {
      "cell_type": "code",
      "source": [
        "print(df.describe())\n"
      ],
      "metadata": {
        "colab": {
          "base_uri": "https://localhost:8080/"
        },
        "id": "OPCtjBpj67Rz",
        "outputId": "4972f175-8200-45cf-dc2a-a9ebad8d79b0"
      },
      "execution_count": null,
      "outputs": [
        {
          "output_type": "stream",
          "name": "stdout",
          "text": [
            "             Price  Price/Earnings  Dividend Yield  Earnings/Share  \\\n",
            "count   505.000000      503.000000      505.000000      505.000000   \n",
            "mean    103.830634       24.808390        1.895953        3.753743   \n",
            "std     134.427636       41.241081        1.537214        5.689036   \n",
            "min       2.820000     -251.530000        0.000000      -28.010000   \n",
            "25%      46.250000       15.350000        0.794834        1.490000   \n",
            "50%      73.920000       19.450000        1.769255        2.890000   \n",
            "75%     116.540000       25.750000        2.781114        5.140000   \n",
            "max    1806.060000      520.150000       12.661196       44.090000   \n",
            "\n",
            "       52 Week Low  52 Week High    Market Cap        EBITDA  Price/Sales  \\\n",
            "count   505.000000    505.000000  5.050000e+02  5.050000e+02   505.000000   \n",
            "mean    122.623832     83.536616  4.923944e+10  3.590328e+09     3.941705   \n",
            "std     155.362140    105.725473  9.005017e+10  6.840544e+09     3.460110   \n",
            "min       6.590000      2.800000  2.626102e+09 -5.067000e+09     0.153186   \n",
            "25%      56.250000     38.430000  1.273207e+10  7.739320e+08     1.629490   \n",
            "50%      86.680000     62.850000  2.140095e+10  1.614399e+09     2.896440   \n",
            "75%     140.130000     96.660000  4.511968e+10  3.692749e+09     4.703842   \n",
            "max    2067.990000   1589.000000  8.095080e+11  7.938600e+10    20.094294   \n",
            "\n",
            "        Price/Book  \n",
            "count   497.000000  \n",
            "mean     14.453179  \n",
            "std      89.660508  \n",
            "min       0.510000  \n",
            "25%       2.020000  \n",
            "50%       3.400000  \n",
            "75%       6.110000  \n",
            "max    1403.380000  \n"
          ]
        }
      ]
    },
    {
      "cell_type": "code",
      "source": [
        "name = df['Name'].head(10)\n",
        "price = df['Price'].head(10)\n",
        "high52 = df['52 Week High'].head(10)\n",
        "low52 = df['52 Week Low'].head(10)\n"
      ],
      "metadata": {
        "id": "pW0COy_N7q1h"
      },
      "execution_count": null,
      "outputs": []
    },
    {
      "cell_type": "code",
      "source": [
        "comp = "
      ],
      "metadata": {
        "id": "JvXUSTHpEMX_"
      },
      "execution_count": null,
      "outputs": []
    },
    {
      "cell_type": "code",
      "source": [
        "print(name,price,high52,low52)"
      ],
      "metadata": {
        "colab": {
          "base_uri": "https://localhost:8080/"
        },
        "id": "f8zS-Jcf9N4J",
        "outputId": "65a03e4c-f9f1-4784-dcea-17b27399d130"
      },
      "execution_count": null,
      "outputs": [
        {
          "output_type": "stream",
          "name": "stdout",
          "text": [
            "0                    3M Company\n",
            "1               A.O. Smith Corp\n",
            "2           Abbott Laboratories\n",
            "3                   AbbVie Inc.\n",
            "4                 Accenture plc\n",
            "5           Activision Blizzard\n",
            "6             Acuity Brands Inc\n",
            "7             Adobe Systems Inc\n",
            "8            Advance Auto Parts\n",
            "9    Advanced Micro Devices Inc\n",
            "Name: Name, dtype: object 0    222.89\n",
            "1     60.24\n",
            "2     56.27\n",
            "3    108.48\n",
            "4    150.51\n",
            "5     65.83\n",
            "6    145.41\n",
            "7    185.16\n",
            "8    109.63\n",
            "9     11.22\n",
            "Name: Price, dtype: float64 0    175.490\n",
            "1     48.925\n",
            "2     42.280\n",
            "3     60.050\n",
            "4    114.820\n",
            "5     38.930\n",
            "6    142.000\n",
            "7    114.451\n",
            "8     78.810\n",
            "9      9.700\n",
            "Name: 52 Week High, dtype: float64 0    259.770\n",
            "1     68.390\n",
            "2     64.600\n",
            "3    125.860\n",
            "4    162.600\n",
            "5     74.945\n",
            "6    225.360\n",
            "7    204.450\n",
            "8    169.550\n",
            "9     15.650\n",
            "Name: 52 Week Low, dtype: float64\n"
          ]
        }
      ]
    },
    {
      "cell_type": "code",
      "source": [
        "fig = plt.figure(figsize=(10,5))\n",
        "plt.bar(name,price,color='blue',width=0.2)\n",
        "plt.show()"
      ],
      "metadata": {
        "colab": {
          "base_uri": "https://localhost:8080/",
          "height": 320
        },
        "id": "4Vx5h_Z_9Qxx",
        "outputId": "6db8ebe6-45f6-4a28-d14d-67164beafe36"
      },
      "execution_count": null,
      "outputs": [
        {
          "output_type": "display_data",
          "data": {
            "text/plain": [
              "<Figure size 720x360 with 1 Axes>"
            ],
            "image/png": "[encoded data removed]"
          },
          "metadata": {
            "needs_background": "light"
          }
        }
      ]
    },
    {
      "cell_type": "code",
      "source": [
        "plotdata = pd.DataFrame({\n",
        "\n",
        "    \"2018\":[57,67,77,83],\n",
        "\n",
        "    \"2019\":[68,73,80,79],\n",
        "\n",
        "    \"2020\":[73,78,80,85]},\n",
        "\n",
        "    index=[\"Django\", \"Gafur\", \"Tommy\", \"Ronnie\"])\n",
        "\n",
        "plotdata.plot(kind=\"bar\",figsize=(15, 8))\n",
        "\n",
        "plt.title(\"FIFA ratings\")\n",
        "\n",
        "plt.xlabel(\"Footballer\")\n",
        "\n",
        "plt.ylabel(\"Ratings\")"
      ],
      "metadata": {
        "colab": {
          "base_uri": "https://localhost:8080/",
          "height": 555
        },
        "id": "nb0bXhSEA9Sg",
        "outputId": "1fcd135a-fc34-489a-f6eb-9c3a7abc8327"
      },
      "execution_count": null,
      "outputs": [
        {
          "output_type": "execute_result",
          "data": {
            "text/plain": [
              "Text(0, 0.5, 'Ratings')"
            ]
          },
          "metadata": {},
          "execution_count": 52
        },
        {
          "output_type": "display_data",
          "data": {
            "text/plain": [
              "<Figure size 1080x576 with 1 Axes>"
            ],
            "image/png": "[encoded data removed]"
          },
          "metadata": {
            "needs_background": "light"
          }
        }
      ]
    }
  ]
}